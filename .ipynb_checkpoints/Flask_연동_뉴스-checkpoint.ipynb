{
 "cells": [
  {
   "cell_type": "code",
   "execution_count": 1,
   "id": "d44b4e27",
   "metadata": {},
   "outputs": [
    {
     "name": "stdout",
     "output_type": "stream",
     "text": [
      "Requirement already satisfied: selenium in c:\\users\\smhrd\\anaconda3\\lib\\site-packages (4.7.2)\n",
      "Requirement already satisfied: certifi>=2021.10.8 in c:\\users\\smhrd\\anaconda3\\lib\\site-packages (from selenium) (2022.9.24)\n",
      "Requirement already satisfied: trio~=0.17 in c:\\users\\smhrd\\anaconda3\\lib\\site-packages (from selenium) (0.22.0)\n",
      "Requirement already satisfied: urllib3[socks]~=1.26 in c:\\users\\smhrd\\anaconda3\\lib\\site-packages (from selenium) (1.26.11)\n",
      "Requirement already satisfied: trio-websocket~=0.9 in c:\\users\\smhrd\\anaconda3\\lib\\site-packages (from selenium) (0.9.2)\n",
      "Requirement already satisfied: cffi>=1.14 in c:\\users\\smhrd\\anaconda3\\lib\\site-packages (from trio~=0.17->selenium) (1.15.1)\n",
      "Requirement already satisfied: async-generator>=1.9 in c:\\users\\smhrd\\anaconda3\\lib\\site-packages (from trio~=0.17->selenium) (1.10)\n",
      "Requirement already satisfied: attrs>=19.2.0 in c:\\users\\smhrd\\anaconda3\\lib\\site-packages (from trio~=0.17->selenium) (21.4.0)\n",
      "Requirement already satisfied: sortedcontainers in c:\\users\\smhrd\\anaconda3\\lib\\site-packages (from trio~=0.17->selenium) (2.4.0)\n",
      "Requirement already satisfied: exceptiongroup>=1.0.0rc9 in c:\\users\\smhrd\\anaconda3\\lib\\site-packages (from trio~=0.17->selenium) (1.0.4)\n",
      "Requirement already satisfied: idna in c:\\users\\smhrd\\anaconda3\\lib\\site-packages (from trio~=0.17->selenium) (3.3)\n",
      "Requirement already satisfied: outcome in c:\\users\\smhrd\\anaconda3\\lib\\site-packages (from trio~=0.17->selenium) (1.2.0)\n",
      "Requirement already satisfied: sniffio in c:\\users\\smhrd\\anaconda3\\lib\\site-packages (from trio~=0.17->selenium) (1.2.0)\n",
      "Requirement already satisfied: wsproto>=0.14 in c:\\users\\smhrd\\anaconda3\\lib\\site-packages (from trio-websocket~=0.9->selenium) (1.2.0)\n",
      "Requirement already satisfied: PySocks!=1.5.7,<2.0,>=1.5.6 in c:\\users\\smhrd\\anaconda3\\lib\\site-packages (from urllib3[socks]~=1.26->selenium) (1.7.1)\n",
      "Requirement already satisfied: pycparser in c:\\users\\smhrd\\anaconda3\\lib\\site-packages (from cffi>=1.14->trio~=0.17->selenium) (2.21)\n",
      "Requirement already satisfied: h11<1,>=0.9.0 in c:\\users\\smhrd\\anaconda3\\lib\\site-packages (from wsproto>=0.14->trio-websocket~=0.9->selenium) (0.14.0)\n",
      "Requirement already satisfied: Flask in c:\\users\\smhrd\\anaconda3\\lib\\site-packages (1.1.2)\n",
      "Requirement already satisfied: Werkzeug>=0.15 in c:\\users\\smhrd\\anaconda3\\lib\\site-packages (from Flask) (2.0.3)\n",
      "Requirement already satisfied: Jinja2>=2.10.1 in c:\\users\\smhrd\\anaconda3\\lib\\site-packages (from Flask) (2.11.3)\n",
      "Requirement already satisfied: itsdangerous>=0.24 in c:\\users\\smhrd\\anaconda3\\lib\\site-packages (from Flask) (2.0.1)\n",
      "Requirement already satisfied: click>=5.1 in c:\\users\\smhrd\\anaconda3\\lib\\site-packages (from Flask) (8.0.4)\n",
      "Requirement already satisfied: colorama in c:\\users\\smhrd\\anaconda3\\lib\\site-packages (from click>=5.1->Flask) (0.4.5)\n",
      "Requirement already satisfied: MarkupSafe>=0.23 in c:\\users\\smhrd\\anaconda3\\lib\\site-packages (from Jinja2>=2.10.1->Flask) (2.0.1)\n"
     ]
    }
   ],
   "source": [
    "!pip install selenium\n",
    "!pip install Flask"
   ]
  },
  {
   "cell_type": "code",
   "execution_count": 2,
   "id": "d97abff9",
   "metadata": {
    "scrolled": false
   },
   "outputs": [
    {
     "name": "stdout",
     "output_type": "stream",
     "text": [
      "Collecting opencv-python\n",
      "  Downloading opencv_python-4.7.0.68-cp37-abi3-win_amd64.whl (38.2 MB)\n",
      "     --------------------------------------- 38.2/38.2 MB 26.2 MB/s eta 0:00:00\n",
      "Requirement already satisfied: numpy>=1.17.0 in c:\\users\\smhrd\\anaconda3\\lib\\site-packages (from opencv-python) (1.21.5)\n",
      "Installing collected packages: opencv-python\n",
      "Successfully installed opencv-python-4.7.0.68\n"
     ]
    }
   ],
   "source": [
    "!pip install opencv-python"
   ]
  },
  {
   "cell_type": "code",
   "execution_count": 1,
   "id": "09707a53",
   "metadata": {},
   "outputs": [],
   "source": [
    "from flask import Flask , request, render_template , make_response ,jsonify ## flask 라이브러리에서 Flask import\n",
    "import numpy as np\n",
    "import cv2\n",
    "import base64\n",
    "from selenium import webdriver as wb\n",
    "from selenium.webdriver.common.keys import Keys\n",
    "from selenium.webdriver.common.by import By\n",
    "from bs4 import BeautifulSoup as bs\n",
    "import os\n",
    "import time\n",
    "from urllib.request import urlretrieve \n",
    "import pandas as pd\n",
    "import numpy as np\n",
    "import requests as req\n",
    "import json"
   ]
  },
  {
   "cell_type": "code",
   "execution_count": null,
   "id": "a9300cb2",
   "metadata": {},
   "outputs": [
    {
     "name": "stdout",
     "output_type": "stream",
     "text": [
      " * Serving Flask app \"__main__\" (lazy loading)\n",
      " * Environment: production\n",
      "\u001b[31m   WARNING: This is a development server. Do not use it in a production deployment.\u001b[0m\n",
      "\u001b[2m   Use a production WSGI server instead.\u001b[0m\n",
      " * Debug mode: off\n"
     ]
    },
    {
     "name": "stderr",
     "output_type": "stream",
     "text": [
      " * Running on http://127.0.0.1:5000/ (Press CTRL+C to quit)\n",
      "C:\\Users\\smhrd\\AppData\\Local\\Temp\\ipykernel_19608\\274639273.py:9: DeprecationWarning: executable_path has been deprecated, please pass in a Service object\n",
      "  driver=wb.Chrome('./chromedriver.exe',options=options)\n",
      "127.0.0.1 - - [16/Jan/2023 10:06:00] \"GET /json HTTP/1.1\" 200 -\n",
      "127.0.0.1 - - [16/Jan/2023 10:06:00] \"GET /json HTTP/1.1\" 200 -\n",
      "127.0.0.1 - - [16/Jan/2023 10:08:05] \"GET /json HTTP/1.1\" 200 -\n",
      "127.0.0.1 - - [16/Jan/2023 10:09:27] \"GET /json HTTP/1.1\" 200 -\n",
      "127.0.0.1 - - [16/Jan/2023 10:10:54] \"GET /json HTTP/1.1\" 200 -\n",
      "127.0.0.1 - - [16/Jan/2023 10:11:14] \"GET /json HTTP/1.1\" 200 -\n",
      "127.0.0.1 - - [16/Jan/2023 10:12:08] \"GET /json HTTP/1.1\" 200 -\n",
      "127.0.0.1 - - [16/Jan/2023 10:13:03] \"GET /json HTTP/1.1\" 200 -\n",
      "127.0.0.1 - - [16/Jan/2023 10:13:18] \"GET /json HTTP/1.1\" 200 -\n",
      "127.0.0.1 - - [16/Jan/2023 10:13:57] \"GET /json HTTP/1.1\" 200 -\n",
      "127.0.0.1 - - [16/Jan/2023 10:14:15] \"GET /json HTTP/1.1\" 200 -\n",
      "127.0.0.1 - - [16/Jan/2023 10:15:20] \"GET /json HTTP/1.1\" 200 -\n",
      "127.0.0.1 - - [16/Jan/2023 10:15:55] \"GET /json HTTP/1.1\" 200 -\n",
      "127.0.0.1 - - [16/Jan/2023 10:16:25] \"GET /json HTTP/1.1\" 200 -\n",
      "127.0.0.1 - - [16/Jan/2023 10:16:34] \"GET /json HTTP/1.1\" 200 -\n"
     ]
    }
   ],
   "source": [
    "# 뉴스 크롤링\n",
    "app = Flask(__name__)\n",
    "@app.route('/json', methods=['GET'])\n",
    "def news_info_test(): \n",
    "    options = wb.ChromeOptions()\n",
    "    options.add_argument('headless')\n",
    "    options.add_argument('window-size=1920x1080')\n",
    "    options.add_argument(\"disable-gpu\")\n",
    "    driver=wb.Chrome('./chromedriver.exe',options=options)\n",
    "    url = 'https://www.naver.com/'\n",
    "    driver.get(url)\n",
    "\n",
    "    search = driver.find_element(By.CSS_SELECTOR,'input#query')\n",
    "    search.send_keys('사이버 피의자')\n",
    "    search.send_keys(Keys.ENTER)\n",
    "\n",
    "    news_btn = driver.find_element(By.CSS_SELECTOR,'#lnb > div.lnb_group > div > ul > li:nth-child(8) > a')\n",
    "    news_btn.click()\n",
    "\n",
    "    cn_list = []\n",
    "    ns_list = []\n",
    "    nl_list = []\n",
    "    nd_list = []\n",
    "    ni_list = []\n",
    "    cnt=1\n",
    "\n",
    "    while cnt<4 :\n",
    "        body = driver.find_element(By.CSS_SELECTOR,'body')\n",
    "        body.send_keys(Keys.END)\n",
    "\n",
    "        time.sleep(1)\n",
    "\n",
    "        soup = bs(driver.page_source,'lxml')\n",
    "        crime_news = soup.select('a.news_tit')\n",
    "        news_sum = soup.select('a.api_txt_lines.dsc_txt_wrap')\n",
    "        news_date = soup.select('span.info')\n",
    "        news_img = soup.select('div.news_wrap.api_ani_send > a > img')\n",
    "\n",
    "\n",
    "        for i in range(len(crime_news)):\n",
    "            cn_list.append(crime_news[i].text)\n",
    "            ns_list.append(news_sum[i].text)\n",
    "            nl_list.append(crime_news[i].attrs['href'])\n",
    "            nd_list.append(news_date[i].text)\n",
    "            try:\n",
    "                ni_list.append(news_img[i]['src'])\n",
    "            except:\n",
    "                ni_list.append('')\n",
    "\n",
    "        next_btn = driver.find_element(By.CSS_SELECTOR,'a.btn_next')\n",
    "        next_btn.click()\n",
    "        cnt+=1\n",
    "\n",
    "    driver.quit()\n",
    "\n",
    "    data = {'title':cn_list,'content':ns_list,'date':nd_list,'url':nl_list, 'img':ni_list}\n",
    "    response = make_response(jsonify(data))\n",
    "    response.headers.add(\"Access-Control-Allow-Origin\", \"*\")\n",
    "    return response\n",
    "\n",
    "if __name__ == \"__main__\":\n",
    "     app.run()"
   ]
  },
  {
   "cell_type": "code",
   "execution_count": null,
   "id": "563bed63",
   "metadata": {},
   "outputs": [],
   "source": []
  }
 ],
 "metadata": {
  "kernelspec": {
   "display_name": "Python 3 (ipykernel)",
   "language": "python",
   "name": "python3"
  },
  "language_info": {
   "codemirror_mode": {
    "name": "ipython",
    "version": 3
   },
   "file_extension": ".py",
   "mimetype": "text/x-python",
   "name": "python",
   "nbconvert_exporter": "python",
   "pygments_lexer": "ipython3",
   "version": "3.10.9"
  }
 },
 "nbformat": 4,
 "nbformat_minor": 5
}
