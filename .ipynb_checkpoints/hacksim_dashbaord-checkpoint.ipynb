{
 "cells": [
  {
   "cell_type": "code",
   "execution_count": 1,
   "id": "43bdd9fb",
   "metadata": {},
   "outputs": [],
   "source": [
    "from flask import Flask , request, render_template , make_response ,jsonify ## flask 라이브러리에서 Flask import\n",
    "from flask_cors import CORS\n",
    "import os\n",
    "import time\n",
    "from urllib.request import urlretrieve \n",
    "import pandas as pd\n",
    "import numpy as np\n",
    "import requests as req\n",
    "import json\n",
    "#예측 시스템용\n",
    "from sklearn.model_selection import train_test_split\n",
    "from sklearn.ensemble import RandomForestRegressor\n",
    "from sklearn.preprocessing import StandardScaler\n",
    "from sklearn.metrics import mean_squared_error\n",
    "from sklearn.preprocessing import StandardScaler"
   ]
  },
  {
   "cell_type": "code",
   "execution_count": 3,
   "id": "3d7e390f",
   "metadata": {
    "scrolled": true
   },
   "outputs": [
    {
     "name": "stdout",
     "output_type": "stream",
     "text": [
      " * Serving Flask app '__main__'\n",
      " * Debug mode: off\n"
     ]
    },
    {
     "name": "stderr",
     "output_type": "stream",
     "text": [
      "WARNING: This is a development server. Do not use it in a production deployment. Use a production WSGI server instead.\n",
      " * Running on http://119.200.31.33:5000\n",
      "Press CTRL+C to quit\n",
      "218.149.140.106 - - [30/Nov/2023 11:52:12] \"POST /seoul_dashboard HTTP/1.1\" 200 -\n"
     ]
    },
    {
     "name": "stdout",
     "output_type": "stream",
     "text": [
      "seoul_dashboard connect\n",
      "<Response 495 bytes [200 OK]>\n"
     ]
    },
    {
     "name": "stderr",
     "output_type": "stream",
     "text": [
      "218.149.140.106 - - [30/Nov/2023 11:52:54] \"POST /seoul_dashboard HTTP/1.1\" 200 -\n"
     ]
    },
    {
     "name": "stdout",
     "output_type": "stream",
     "text": [
      "seoul_dashboard connect\n",
      "<Response 495 bytes [200 OK]>\n"
     ]
    },
    {
     "name": "stderr",
     "output_type": "stream",
     "text": [
      "218.149.140.106 - - [30/Nov/2023 13:59:37] \"POST /seoul_dashboard HTTP/1.1\" 200 -\n"
     ]
    },
    {
     "name": "stdout",
     "output_type": "stream",
     "text": [
      "seoul_dashboard connect\n",
      "<Response 495 bytes [200 OK]>\n"
     ]
    },
    {
     "name": "stderr",
     "output_type": "stream",
     "text": [
      "218.149.140.106 - - [30/Nov/2023 14:00:13] \"POST /gu_dashboard HTTP/1.1\" 200 -\n"
     ]
    },
    {
     "name": "stdout",
     "output_type": "stream",
     "text": [
      "gu_dashbaord connect\n",
      "<Response 572 bytes [200 OK]>\n"
     ]
    },
    {
     "name": "stderr",
     "output_type": "stream",
     "text": [
      "218.149.140.106 - - [30/Nov/2023 14:00:16] \"POST /seoul_dashboard HTTP/1.1\" 200 -\n"
     ]
    },
    {
     "name": "stdout",
     "output_type": "stream",
     "text": [
      "seoul_dashboard connect\n",
      "<Response 495 bytes [200 OK]>\n"
     ]
    },
    {
     "name": "stderr",
     "output_type": "stream",
     "text": [
      "218.149.140.106 - - [30/Nov/2023 14:04:53] \"POST /gu_dashboard HTTP/1.1\" 200 -\n"
     ]
    },
    {
     "name": "stdout",
     "output_type": "stream",
     "text": [
      "gu_dashbaord connect\n",
      "<Response 788 bytes [200 OK]>\n"
     ]
    },
    {
     "name": "stderr",
     "output_type": "stream",
     "text": [
      "218.149.140.106 - - [30/Nov/2023 14:04:59] \"POST /seoul_dashboard HTTP/1.1\" 200 -\n"
     ]
    },
    {
     "name": "stdout",
     "output_type": "stream",
     "text": [
      "seoul_dashboard connect\n",
      "<Response 495 bytes [200 OK]>\n"
     ]
    },
    {
     "name": "stderr",
     "output_type": "stream",
     "text": [
      "218.149.140.106 - - [30/Nov/2023 14:05:01] \"POST /gu_dashboard HTTP/1.1\" 200 -\n"
     ]
    },
    {
     "name": "stdout",
     "output_type": "stream",
     "text": [
      "gu_dashbaord connect\n",
      "<Response 716 bytes [200 OK]>\n"
     ]
    },
    {
     "name": "stderr",
     "output_type": "stream",
     "text": [
      "218.149.140.106 - - [30/Nov/2023 14:05:39] \"POST /gu_dashboard HTTP/1.1\" 200 -\n"
     ]
    },
    {
     "name": "stdout",
     "output_type": "stream",
     "text": [
      "gu_dashbaord connect\n",
      "<Response 788 bytes [200 OK]>\n"
     ]
    },
    {
     "name": "stderr",
     "output_type": "stream",
     "text": [
      "218.149.140.106 - - [30/Nov/2023 14:05:48] \"POST /seoul_dashboard HTTP/1.1\" 200 -\n"
     ]
    },
    {
     "name": "stdout",
     "output_type": "stream",
     "text": [
      "seoul_dashboard connect\n",
      "<Response 495 bytes [200 OK]>\n"
     ]
    },
    {
     "name": "stderr",
     "output_type": "stream",
     "text": [
      "218.149.140.106 - - [30/Nov/2023 14:06:57] \"POST /gu_dashboard HTTP/1.1\" 200 -\n"
     ]
    },
    {
     "name": "stdout",
     "output_type": "stream",
     "text": [
      "gu_dashbaord connect\n",
      "<Response 572 bytes [200 OK]>\n"
     ]
    },
    {
     "name": "stderr",
     "output_type": "stream",
     "text": [
      "218.149.140.106 - - [30/Nov/2023 14:07:07] \"POST /gu_dashboard HTTP/1.1\" 200 -\n"
     ]
    },
    {
     "name": "stdout",
     "output_type": "stream",
     "text": [
      "gu_dashbaord connect\n",
      "<Response 737 bytes [200 OK]>\n"
     ]
    },
    {
     "name": "stderr",
     "output_type": "stream",
     "text": [
      "218.149.140.106 - - [30/Nov/2023 14:07:11] \"POST /gu_dashboard HTTP/1.1\" 200 -\n"
     ]
    },
    {
     "name": "stdout",
     "output_type": "stream",
     "text": [
      "gu_dashbaord connect\n",
      "<Response 736 bytes [200 OK]>\n"
     ]
    },
    {
     "name": "stderr",
     "output_type": "stream",
     "text": [
      "218.149.140.106 - - [30/Nov/2023 14:07:25] \"POST /seoul_dashboard HTTP/1.1\" 200 -\n"
     ]
    },
    {
     "name": "stdout",
     "output_type": "stream",
     "text": [
      "seoul_dashboard connect\n",
      "<Response 495 bytes [200 OK]>\n",
      "predict connect\n"
     ]
    },
    {
     "name": "stderr",
     "output_type": "stream",
     "text": [
      "218.149.140.106 - - [30/Nov/2023 14:07:39] \"POST /pre HTTP/1.1\" 200 -\n"
     ]
    },
    {
     "name": "stdout",
     "output_type": "stream",
     "text": [
      "평균제곱오차 (test): 21.769788754518107\n",
      "평균제곱오차 (all): 10.364726774182682\n",
      "          실제값        예측값\n",
      "0   14.972881  18.921907\n",
      "1   13.055717  19.721012\n",
      "2   23.870964  28.299769\n",
      "3   39.706085  40.014136\n",
      "4   29.395756  31.984072\n",
      "5   32.885941  33.465940\n",
      "6   32.819342  32.663974\n",
      "7   48.544966  44.636828\n",
      "8   31.869084  37.638325\n",
      "9   44.290745  41.698976\n",
      "10  39.390318  37.662324\n",
      "11  40.794352  35.965437\n",
      "12  40.654169  40.820382\n",
      "13  27.784778  29.897534\n",
      "14  42.303722  40.594693\n",
      "15  37.279318  35.062110\n",
      "16  32.830094  32.498653\n",
      "17  28.562666  32.608487\n",
      "18  25.048128  27.962637\n",
      "19  43.082164  41.479860\n",
      "20  31.101180  31.568113\n",
      "21  27.760834  29.295775\n",
      "22  23.356435  26.537648\n",
      "23  38.847033  32.802059\n",
      "24  37.799464  36.517112\n",
      "{'predict_data': 37, 'gu_crime_cnt': 2832, 'gu_popBy_cnt': 9, 'gu_PolBy_cnt': 314}\n",
      "<Response 76 bytes [200 OK]>\n",
      "predict connect\n"
     ]
    },
    {
     "name": "stderr",
     "output_type": "stream",
     "text": [
      "218.149.140.106 - - [30/Nov/2023 14:07:45] \"POST /pre HTTP/1.1\" 200 -\n"
     ]
    },
    {
     "name": "stdout",
     "output_type": "stream",
     "text": [
      "평균제곱오차 (test): 21.769788754518107\n",
      "평균제곱오차 (all): 10.364726774182682\n",
      "          실제값        예측값\n",
      "0   14.972881  18.921907\n",
      "1   13.055717  19.721012\n",
      "2   23.870964  28.299769\n",
      "3   39.706085  40.014136\n",
      "4   29.395756  31.984072\n",
      "5   32.885941  33.465940\n",
      "6   32.819342  32.663974\n",
      "7   48.544966  44.636828\n",
      "8   31.869084  37.638325\n",
      "9   44.290745  41.698976\n",
      "10  39.390318  37.662324\n",
      "11  40.794352  35.965437\n",
      "12  40.654169  40.820382\n",
      "13  27.784778  29.897534\n",
      "14  42.303722  40.594693\n",
      "15  37.279318  35.062110\n",
      "16  32.830094  32.498653\n",
      "17  28.562666  32.608487\n",
      "18  25.048128  27.962637\n",
      "19  43.082164  41.479860\n",
      "20  31.101180  31.568113\n",
      "21  27.760834  29.295775\n",
      "22  23.356435  26.537648\n",
      "23  38.847033  32.802059\n",
      "24  37.799464  36.517112\n",
      "{'predict_data': 40, 'gu_crime_cnt': 2194, 'gu_popBy_cnt': 7, 'gu_PolBy_cnt': 243}\n",
      "<Response 76 bytes [200 OK]>\n",
      "predict connect\n"
     ]
    },
    {
     "name": "stderr",
     "output_type": "stream",
     "text": [
      "218.149.140.106 - - [30/Nov/2023 14:07:48] \"POST /pre HTTP/1.1\" 200 -\n"
     ]
    },
    {
     "name": "stdout",
     "output_type": "stream",
     "text": [
      "평균제곱오차 (test): 21.769788754518107\n",
      "평균제곱오차 (all): 10.364726774182682\n",
      "          실제값        예측값\n",
      "0   14.972881  18.921907\n",
      "1   13.055717  19.721012\n",
      "2   23.870964  28.299769\n",
      "3   39.706085  40.014136\n",
      "4   29.395756  31.984072\n",
      "5   32.885941  33.465940\n",
      "6   32.819342  32.663974\n",
      "7   48.544966  44.636828\n",
      "8   31.869084  37.638325\n",
      "9   44.290745  41.698976\n",
      "10  39.390318  37.662324\n",
      "11  40.794352  35.965437\n",
      "12  40.654169  40.820382\n",
      "13  27.784778  29.897534\n",
      "14  42.303722  40.594693\n",
      "15  37.279318  35.062110\n",
      "16  32.830094  32.498653\n",
      "17  28.562666  32.608487\n",
      "18  25.048128  27.962637\n",
      "19  43.082164  41.479860\n",
      "20  31.101180  31.568113\n",
      "21  27.760834  29.295775\n",
      "22  23.356435  26.537648\n",
      "23  38.847033  32.802059\n",
      "24  37.799464  36.517112\n",
      "{'predict_data': 40, 'gu_crime_cnt': 2194, 'gu_popBy_cnt': 7, 'gu_PolBy_cnt': 243}\n",
      "<Response 76 bytes [200 OK]>\n",
      "predict connect\n"
     ]
    },
    {
     "name": "stderr",
     "output_type": "stream",
     "text": [
      "218.149.140.106 - - [30/Nov/2023 14:07:52] \"POST /pre HTTP/1.1\" 200 -\n"
     ]
    },
    {
     "name": "stdout",
     "output_type": "stream",
     "text": [
      "평균제곱오차 (test): 21.769788754518107\n",
      "평균제곱오차 (all): 10.364726774182682\n",
      "          실제값        예측값\n",
      "0   14.972881  18.921907\n",
      "1   13.055717  19.721012\n",
      "2   23.870964  28.299769\n",
      "3   39.706085  40.014136\n",
      "4   29.395756  31.984072\n",
      "5   32.885941  33.465940\n",
      "6   32.819342  32.663974\n",
      "7   48.544966  44.636828\n",
      "8   31.869084  37.638325\n",
      "9   44.290745  41.698976\n",
      "10  39.390318  37.662324\n",
      "11  40.794352  35.965437\n",
      "12  40.654169  40.820382\n",
      "13  27.784778  29.897534\n",
      "14  42.303722  40.594693\n",
      "15  37.279318  35.062110\n",
      "16  32.830094  32.498653\n",
      "17  28.562666  32.608487\n",
      "18  25.048128  27.962637\n",
      "19  43.082164  41.479860\n",
      "20  31.101180  31.568113\n",
      "21  27.760834  29.295775\n",
      "22  23.356435  26.537648\n",
      "23  38.847033  32.802059\n",
      "24  37.799464  36.517112\n",
      "{'predict_data': 40, 'gu_crime_cnt': 2374, 'gu_popBy_cnt': 7, 'gu_PolBy_cnt': 296}\n",
      "<Response 76 bytes [200 OK]>\n"
     ]
    },
    {
     "name": "stderr",
     "output_type": "stream",
     "text": [
      "218.149.140.106 - - [30/Nov/2023 14:08:11] \"POST /seoul_dashboard HTTP/1.1\" 200 -\n"
     ]
    },
    {
     "name": "stdout",
     "output_type": "stream",
     "text": [
      "seoul_dashboard connect\n",
      "<Response 495 bytes [200 OK]>\n"
     ]
    },
    {
     "name": "stderr",
     "output_type": "stream",
     "text": [
      "218.149.140.106 - - [30/Nov/2023 14:08:29] \"POST /gu_dashboard HTTP/1.1\" 200 -\n"
     ]
    },
    {
     "name": "stdout",
     "output_type": "stream",
     "text": [
      "gu_dashbaord connect\n",
      "<Response 753 bytes [200 OK]>\n"
     ]
    },
    {
     "name": "stderr",
     "output_type": "stream",
     "text": [
      "218.149.140.106 - - [30/Nov/2023 14:09:21] \"POST /seoul_dashboard HTTP/1.1\" 200 -\n"
     ]
    },
    {
     "name": "stdout",
     "output_type": "stream",
     "text": [
      "seoul_dashboard connect\n",
      "<Response 495 bytes [200 OK]>\n"
     ]
    },
    {
     "name": "stderr",
     "output_type": "stream",
     "text": [
      "218.149.140.106 - - [30/Nov/2023 14:09:23] \"POST /gu_dashboard HTTP/1.1\" 200 -\n"
     ]
    },
    {
     "name": "stdout",
     "output_type": "stream",
     "text": [
      "gu_dashbaord connect\n",
      "<Response 656 bytes [200 OK]>\n"
     ]
    },
    {
     "name": "stderr",
     "output_type": "stream",
     "text": [
      "218.149.140.106 - - [30/Nov/2023 14:09:25] \"POST /gu_dashboard HTTP/1.1\" 200 -\n"
     ]
    },
    {
     "name": "stdout",
     "output_type": "stream",
     "text": [
      "gu_dashbaord connect\n",
      "<Response 737 bytes [200 OK]>\n"
     ]
    },
    {
     "name": "stderr",
     "output_type": "stream",
     "text": [
      "218.149.140.106 - - [30/Nov/2023 14:09:32] \"POST /gu_dashboard HTTP/1.1\" 200 -\n"
     ]
    },
    {
     "name": "stdout",
     "output_type": "stream",
     "text": [
      "gu_dashbaord connect\n",
      "<Response 625 bytes [200 OK]>\n",
      "predict connect\n"
     ]
    },
    {
     "name": "stderr",
     "output_type": "stream",
     "text": [
      "218.149.140.106 - - [30/Nov/2023 14:09:37] \"POST /pre HTTP/1.1\" 200 -\n"
     ]
    },
    {
     "name": "stdout",
     "output_type": "stream",
     "text": [
      "평균제곱오차 (test): 21.769788754518107\n",
      "평균제곱오차 (all): 10.364726774182682\n",
      "          실제값        예측값\n",
      "0   14.972881  18.921907\n",
      "1   13.055717  19.721012\n",
      "2   23.870964  28.299769\n",
      "3   39.706085  40.014136\n",
      "4   29.395756  31.984072\n",
      "5   32.885941  33.465940\n",
      "6   32.819342  32.663974\n",
      "7   48.544966  44.636828\n",
      "8   31.869084  37.638325\n",
      "9   44.290745  41.698976\n",
      "10  39.390318  37.662324\n",
      "11  40.794352  35.965437\n",
      "12  40.654169  40.820382\n",
      "13  27.784778  29.897534\n",
      "14  42.303722  40.594693\n",
      "15  37.279318  35.062110\n",
      "16  32.830094  32.498653\n",
      "17  28.562666  32.608487\n",
      "18  25.048128  27.962637\n",
      "19  43.082164  41.479860\n",
      "20  31.101180  31.568113\n",
      "21  27.760834  29.295775\n",
      "22  23.356435  26.537648\n",
      "23  38.847033  32.802059\n",
      "24  37.799464  36.517112\n",
      "{'predict_data': 18, 'gu_crime_cnt': 3138, 'gu_popBy_cnt': 20, 'gu_PolBy_cnt': 156}\n",
      "<Response 77 bytes [200 OK]>\n",
      "predict connect\n"
     ]
    },
    {
     "name": "stderr",
     "output_type": "stream",
     "text": [
      "218.149.140.106 - - [30/Nov/2023 14:09:48] \"POST /pre HTTP/1.1\" 200 -\n"
     ]
    },
    {
     "name": "stdout",
     "output_type": "stream",
     "text": [
      "평균제곱오차 (test): 21.769788754518107\n",
      "평균제곱오차 (all): 10.364726774182682\n",
      "          실제값        예측값\n",
      "0   14.972881  18.921907\n",
      "1   13.055717  19.721012\n",
      "2   23.870964  28.299769\n",
      "3   39.706085  40.014136\n",
      "4   29.395756  31.984072\n",
      "5   32.885941  33.465940\n",
      "6   32.819342  32.663974\n",
      "7   48.544966  44.636828\n",
      "8   31.869084  37.638325\n",
      "9   44.290745  41.698976\n",
      "10  39.390318  37.662324\n",
      "11  40.794352  35.965437\n",
      "12  40.654169  40.820382\n",
      "13  27.784778  29.897534\n",
      "14  42.303722  40.594693\n",
      "15  37.279318  35.062110\n",
      "16  32.830094  32.498653\n",
      "17  28.562666  32.608487\n",
      "18  25.048128  27.962637\n",
      "19  43.082164  41.479860\n",
      "20  31.101180  31.568113\n",
      "21  27.760834  29.295775\n",
      "22  23.356435  26.537648\n",
      "23  38.847033  32.802059\n",
      "24  37.799464  36.517112\n",
      "{'predict_data': 28, 'gu_crime_cnt': 2967, 'gu_popBy_cnt': 12, 'gu_PolBy_cnt': 423}\n",
      "<Response 77 bytes [200 OK]>\n"
     ]
    },
    {
     "name": "stderr",
     "output_type": "stream",
     "text": [
      "218.149.140.106 - - [30/Nov/2023 14:09:53] \"POST /seoul_dashboard HTTP/1.1\" 200 -\n"
     ]
    },
    {
     "name": "stdout",
     "output_type": "stream",
     "text": [
      "seoul_dashboard connect\n",
      "<Response 495 bytes [200 OK]>\n",
      "predict connect\n"
     ]
    },
    {
     "name": "stderr",
     "output_type": "stream",
     "text": [
      "218.149.140.106 - - [30/Nov/2023 14:09:56] \"POST /pre HTTP/1.1\" 200 -\n"
     ]
    },
    {
     "name": "stdout",
     "output_type": "stream",
     "text": [
      "평균제곱오차 (test): 21.769788754518107\n",
      "평균제곱오차 (all): 10.364726774182682\n",
      "          실제값        예측값\n",
      "0   14.972881  18.921907\n",
      "1   13.055717  19.721012\n",
      "2   23.870964  28.299769\n",
      "3   39.706085  40.014136\n",
      "4   29.395756  31.984072\n",
      "5   32.885941  33.465940\n",
      "6   32.819342  32.663974\n",
      "7   48.544966  44.636828\n",
      "8   31.869084  37.638325\n",
      "9   44.290745  41.698976\n",
      "10  39.390318  37.662324\n",
      "11  40.794352  35.965437\n",
      "12  40.654169  40.820382\n",
      "13  27.784778  29.897534\n",
      "14  42.303722  40.594693\n",
      "15  37.279318  35.062110\n",
      "16  32.830094  32.498653\n",
      "17  28.562666  32.608487\n",
      "18  25.048128  27.962637\n",
      "19  43.082164  41.479860\n",
      "20  31.101180  31.568113\n",
      "21  27.760834  29.295775\n",
      "22  23.356435  26.537648\n",
      "23  38.847033  32.802059\n",
      "24  37.799464  36.517112\n",
      "{'predict_data': 31, 'gu_crime_cnt': 3619, 'gu_popBy_cnt': 10, 'gu_PolBy_cnt': 361}\n",
      "<Response 77 bytes [200 OK]>\n"
     ]
    },
    {
     "name": "stderr",
     "output_type": "stream",
     "text": [
      "218.149.140.106 - - [30/Nov/2023 14:10:55] \"POST /seoul_dashboard HTTP/1.1\" 200 -\n"
     ]
    },
    {
     "name": "stdout",
     "output_type": "stream",
     "text": [
      "seoul_dashboard connect\n",
      "<Response 495 bytes [200 OK]>\n"
     ]
    },
    {
     "name": "stderr",
     "output_type": "stream",
     "text": [
      "218.149.140.106 - - [30/Nov/2023 14:11:24] \"POST /gu_dashboard HTTP/1.1\" 200 -\n"
     ]
    },
    {
     "name": "stdout",
     "output_type": "stream",
     "text": [
      "gu_dashbaord connect\n",
      "<Response 638 bytes [200 OK]>\n"
     ]
    },
    {
     "name": "stderr",
     "output_type": "stream",
     "text": [
      "218.149.140.106 - - [30/Nov/2023 14:12:06] \"POST /seoul_dashboard HTTP/1.1\" 200 -\n"
     ]
    },
    {
     "name": "stdout",
     "output_type": "stream",
     "text": [
      "seoul_dashboard connect\n",
      "<Response 495 bytes [200 OK]>\n"
     ]
    },
    {
     "name": "stderr",
     "output_type": "stream",
     "text": [
      "218.149.140.106 - - [30/Nov/2023 14:18:06] \"POST /seoul_dashboard HTTP/1.1\" 200 -\n"
     ]
    },
    {
     "name": "stdout",
     "output_type": "stream",
     "text": [
      "seoul_dashboard connect\n",
      "<Response 495 bytes [200 OK]>\n"
     ]
    },
    {
     "name": "stderr",
     "output_type": "stream",
     "text": [
      "164.92.230.134 - - [30/Nov/2023 14:18:58] \"GET http://uplo.ad/?v=1&ip=119.200.31.33&port=5000 HTTP/1.1\" 404 -\n",
      "218.149.140.106 - - [30/Nov/2023 14:44:01] \"POST /gu_dashboard HTTP/1.1\" 200 -\n"
     ]
    },
    {
     "name": "stdout",
     "output_type": "stream",
     "text": [
      "gu_dashbaord connect\n",
      "<Response 800 bytes [200 OK]>\n"
     ]
    },
    {
     "name": "stderr",
     "output_type": "stream",
     "text": [
      "218.149.140.106 - - [30/Nov/2023 14:44:14] \"POST /gu_dashboard HTTP/1.1\" 200 -\n"
     ]
    },
    {
     "name": "stdout",
     "output_type": "stream",
     "text": [
      "gu_dashbaord connect\n",
      "<Response 800 bytes [200 OK]>\n"
     ]
    },
    {
     "name": "stderr",
     "output_type": "stream",
     "text": [
      "218.149.140.106 - - [30/Nov/2023 14:44:37] \"POST /gu_dashboard HTTP/1.1\" 200 -\n"
     ]
    },
    {
     "name": "stdout",
     "output_type": "stream",
     "text": [
      "gu_dashbaord connect\n",
      "<Response 638 bytes [200 OK]>\n"
     ]
    },
    {
     "name": "stderr",
     "output_type": "stream",
     "text": [
      "218.149.140.106 - - [30/Nov/2023 14:44:40] \"POST /gu_dashboard HTTP/1.1\" 200 -\n"
     ]
    },
    {
     "name": "stdout",
     "output_type": "stream",
     "text": [
      "gu_dashbaord connect\n",
      "<Response 572 bytes [200 OK]>\n"
     ]
    },
    {
     "name": "stderr",
     "output_type": "stream",
     "text": [
      "218.149.140.106 - - [30/Nov/2023 14:44:44] \"POST /gu_dashboard HTTP/1.1\" 200 -\n"
     ]
    },
    {
     "name": "stdout",
     "output_type": "stream",
     "text": [
      "gu_dashbaord connect\n",
      "<Response 753 bytes [200 OK]>\n"
     ]
    },
    {
     "name": "stderr",
     "output_type": "stream",
     "text": [
      "218.149.140.106 - - [30/Nov/2023 14:44:47] \"POST /gu_dashboard HTTP/1.1\" 200 -\n"
     ]
    },
    {
     "name": "stdout",
     "output_type": "stream",
     "text": [
      "gu_dashbaord connect\n",
      "<Response 722 bytes [200 OK]>\n"
     ]
    },
    {
     "name": "stderr",
     "output_type": "stream",
     "text": [
      "218.149.140.106 - - [30/Nov/2023 14:44:51] \"POST /gu_dashboard HTTP/1.1\" 200 -\n"
     ]
    },
    {
     "name": "stdout",
     "output_type": "stream",
     "text": [
      "gu_dashbaord connect\n",
      "<Response 656 bytes [200 OK]>\n"
     ]
    },
    {
     "name": "stderr",
     "output_type": "stream",
     "text": [
      "218.149.140.106 - - [30/Nov/2023 14:45:11] \"POST /gu_dashboard HTTP/1.1\" 200 -\n"
     ]
    },
    {
     "name": "stdout",
     "output_type": "stream",
     "text": [
      "gu_dashbaord connect\n",
      "<Response 677 bytes [200 OK]>\n"
     ]
    },
    {
     "name": "stderr",
     "output_type": "stream",
     "text": [
      "218.149.140.106 - - [30/Nov/2023 14:45:36] \"POST /gu_dashboard HTTP/1.1\" 200 -\n"
     ]
    },
    {
     "name": "stdout",
     "output_type": "stream",
     "text": [
      "gu_dashbaord connect\n",
      "<Response 788 bytes [200 OK]>\n"
     ]
    },
    {
     "name": "stderr",
     "output_type": "stream",
     "text": [
      "218.149.140.106 - - [30/Nov/2023 14:45:54] \"POST /seoul_dashboard HTTP/1.1\" 200 -\n"
     ]
    },
    {
     "name": "stdout",
     "output_type": "stream",
     "text": [
      "seoul_dashboard connect\n",
      "<Response 495 bytes [200 OK]>\n",
      "predict connect\n"
     ]
    },
    {
     "name": "stderr",
     "output_type": "stream",
     "text": [
      "218.149.140.106 - - [30/Nov/2023 14:46:19] \"POST /pre HTTP/1.1\" 200 -\n"
     ]
    },
    {
     "name": "stdout",
     "output_type": "stream",
     "text": [
      "평균제곱오차 (test): 21.769788754518107\n",
      "평균제곱오차 (all): 10.364726774182682\n",
      "          실제값        예측값\n",
      "0   14.972881  18.921907\n",
      "1   13.055717  19.721012\n",
      "2   23.870964  28.299769\n",
      "3   39.706085  40.014136\n",
      "4   29.395756  31.984072\n",
      "5   32.885941  33.465940\n",
      "6   32.819342  32.663974\n",
      "7   48.544966  44.636828\n",
      "8   31.869084  37.638325\n",
      "9   44.290745  41.698976\n",
      "10  39.390318  37.662324\n",
      "11  40.794352  35.965437\n",
      "12  40.654169  40.820382\n",
      "13  27.784778  29.897534\n",
      "14  42.303722  40.594693\n",
      "15  37.279318  35.062110\n",
      "16  32.830094  32.498653\n",
      "17  28.562666  32.608487\n",
      "18  25.048128  27.962637\n",
      "19  43.082164  41.479860\n",
      "20  31.101180  31.568113\n",
      "21  27.760834  29.295775\n",
      "22  23.356435  26.537648\n",
      "23  38.847033  32.802059\n",
      "24  37.799464  36.517112\n",
      "{'predict_data': 35, 'gu_crime_cnt': 3487, 'gu_popBy_cnt': 7, 'gu_PolBy_cnt': 387}\n",
      "<Response 76 bytes [200 OK]>\n"
     ]
    },
    {
     "name": "stderr",
     "output_type": "stream",
     "text": [
      "218.149.140.106 - - [30/Nov/2023 14:47:47] \"POST /seoul_dashboard HTTP/1.1\" 200 -\n"
     ]
    },
    {
     "name": "stdout",
     "output_type": "stream",
     "text": [
      "seoul_dashboard connect\n",
      "<Response 495 bytes [200 OK]>\n"
     ]
    },
    {
     "name": "stderr",
     "output_type": "stream",
     "text": [
      "218.149.140.106 - - [30/Nov/2023 15:00:13] \"POST /seoul_dashboard HTTP/1.1\" 200 -\n"
     ]
    },
    {
     "name": "stdout",
     "output_type": "stream",
     "text": [
      "seoul_dashboard connect\n",
      "<Response 495 bytes [200 OK]>\n"
     ]
    },
    {
     "name": "stderr",
     "output_type": "stream",
     "text": [
      "218.149.140.106 - - [30/Nov/2023 15:34:11] \"POST /gu_dashboard HTTP/1.1\" 200 -\n"
     ]
    },
    {
     "name": "stdout",
     "output_type": "stream",
     "text": [
      "gu_dashbaord connect\n",
      "<Response 665 bytes [200 OK]>\n"
     ]
    },
    {
     "name": "stderr",
     "output_type": "stream",
     "text": [
      "218.149.140.106 - - [30/Nov/2023 15:34:13] \"POST /gu_dashboard HTTP/1.1\" 200 -\n"
     ]
    },
    {
     "name": "stdout",
     "output_type": "stream",
     "text": [
      "gu_dashbaord connect\n",
      "<Response 665 bytes [200 OK]>\n"
     ]
    },
    {
     "name": "stderr",
     "output_type": "stream",
     "text": [
      "218.149.140.106 - - [30/Nov/2023 15:34:13] \"POST /gu_dashboard HTTP/1.1\" 200 -\n"
     ]
    },
    {
     "name": "stdout",
     "output_type": "stream",
     "text": [
      "gu_dashbaord connect\n",
      "<Response 668 bytes [200 OK]>\n"
     ]
    },
    {
     "name": "stderr",
     "output_type": "stream",
     "text": [
      "218.149.140.106 - - [30/Nov/2023 15:34:17] \"POST /gu_dashboard HTTP/1.1\" 200 -\n"
     ]
    },
    {
     "name": "stdout",
     "output_type": "stream",
     "text": [
      "gu_dashbaord connect\n",
      "<Response 737 bytes [200 OK]>\n"
     ]
    },
    {
     "name": "stderr",
     "output_type": "stream",
     "text": [
      "218.149.140.106 - - [30/Nov/2023 15:34:19] \"POST /gu_dashboard HTTP/1.1\" 200 -\n"
     ]
    },
    {
     "name": "stdout",
     "output_type": "stream",
     "text": [
      "gu_dashbaord connect\n",
      "<Response 800 bytes [200 OK]>\n"
     ]
    },
    {
     "name": "stderr",
     "output_type": "stream",
     "text": [
      "218.149.140.106 - - [30/Nov/2023 15:34:21] \"POST /gu_dashboard HTTP/1.1\" 200 -\n"
     ]
    },
    {
     "name": "stdout",
     "output_type": "stream",
     "text": [
      "gu_dashbaord connect\n",
      "<Response 609 bytes [200 OK]>\n"
     ]
    },
    {
     "name": "stderr",
     "output_type": "stream",
     "text": [
      "218.149.140.106 - - [30/Nov/2023 15:34:22] \"POST /gu_dashboard HTTP/1.1\" 200 -\n"
     ]
    },
    {
     "name": "stdout",
     "output_type": "stream",
     "text": [
      "gu_dashbaord connect\n",
      "<Response 685 bytes [200 OK]>\n"
     ]
    },
    {
     "name": "stderr",
     "output_type": "stream",
     "text": [
      "218.149.140.106 - - [30/Nov/2023 15:34:24] \"POST /seoul_dashboard HTTP/1.1\" 200 -\n"
     ]
    },
    {
     "name": "stdout",
     "output_type": "stream",
     "text": [
      "seoul_dashboard connect\n",
      "<Response 495 bytes [200 OK]>\n"
     ]
    }
   ],
   "source": [
    "app = Flask(__name__)\n",
    "CORS(app)\n",
    "#행정구별 인구수\n",
    "@app.route('/gu_dashboard',methods=['POST'])\n",
    "def gu_dashboard():\n",
    "    print('gu_dashbaord connect')\n",
    "    if request.method == 'POST':\n",
    "        gu_name = request.get_data(as_text=True)\n",
    "        #gu_name = request.form.get('testdata') #구 이름 받는 값\n",
    "            \n",
    "        # 구 인구 수 데이터 불러오기 / 전처리\n",
    "        pop_dashboard=pd.read_csv('./data/pop_dashboard.csv')\n",
    "        mask=pop_dashboard['행정구']==gu_name\n",
    "        pop=pop_dashboard[mask]\n",
    "        pop=pop[['총인구수','내국인','외국인']].astype(int)\n",
    "            \n",
    "        #유흥시설 현황 데이터 불러오기 / 전처리\n",
    "        uh_dashboard=pd.read_csv('./data/uh_dashboard.csv')\n",
    "        uh_dashboard=uh_dashboard.set_index('업태구분명',drop=True, append=False, inplace=False, verify_integrity=False)\n",
    "          \n",
    "        #주거형태 현황 데이터 불러오기 / 전처리\n",
    "        housingtype_dashboard=pd.read_csv('./data/housingType_dashboard.csv')\n",
    "        housingtype_dashboard.sort_values(['행정구'],inplace=True,ignore_index=True)\n",
    "        mask_h=housingtype_dashboard['행정구']==gu_name\n",
    "        h_dashboard=housingtype_dashboard[mask_h]\n",
    "                        \n",
    "                                                \n",
    "        #####그래프 입력 값\n",
    "        b_x_list=[] #라벨 업태구분명\n",
    "        b_y_list=[] #빈도, 업태 수\n",
    "        for i in uh_dashboard.index : #cnt 0인 업태명은 제외하고자 함\n",
    "            if uh_dashboard[gu_name][i] > 0 :\n",
    "                b_x_list.append(i)\n",
    "                b_y_list.append(int(uh_dashboard[gu_name][i]))\n",
    "                    \n",
    "            \n",
    "\n",
    "        p_x=pop.columns.to_list() #라벨 데이터\n",
    "        p_y=pop.iloc[0].to_list() #인구수\n",
    "           \n",
    "        h_x=h_dashboard.columns[2:].to_list() #주거형태\n",
    "        h_y=h_dashboard.values[0][2:].tolist() #주거형태별 갯수\n",
    "\n",
    "        data = {\n",
    "          'pop_label':p_x, #pop_label\n",
    "          'pop_cnt':p_y, #pop_cnt\n",
    "          'business_name': b_x_list, #업태구분명 라벨\n",
    "          'business_cnt': b_y_list, #업태 수\n",
    "          'house_type': h_x,#주거형태 라벨\n",
    "          'house_cnt': h_y #각 주거형태 개수\n",
    "        }\n",
    "        \n",
    "        print(jsonify(data))\n",
    "        response = make_response(jsonify(data))\n",
    "        response.headers.add(\"Access-Control-Allow-Origin\", \"*\")\n",
    "        return response\n",
    "\n",
    "#서울시 범죄/검거율   \n",
    "@app.route('/seoul_dashboard', methods=['POST'])\n",
    "def seoul_dashboard():\n",
    "    print('seoul_dashboard connect')\n",
    "    # 서울시 범죄 데이터전처리\n",
    "    crime = pd.read_csv('data/seoul_crime.csv', skiprows=2)\n",
    "    crime.columns = ['행정구별', '총범죄발생', '총범죄검거', '살인발생', '살인검거', '강도발생', '강도검거', '강간강제추행발생', '강간강제추행검거', '절도발생', '절도검거', '폭력발생', '폭력검거']\n",
    "    crime['살인검거율'] = crime['살인검거'] / crime['살인발생'] * 100\n",
    "    crime['강도검거율'] = crime['강도검거'] / crime['강도발생'] * 100\n",
    "    crime['강간강제추행검거율'] = crime['강간강제추행검거'] / crime['강간강제추행발생'] * 100\n",
    "    crime['절도검거율'] = crime['절도검거'] / crime['절도발생'] * 100\n",
    "    crime['폭력검거율'] = crime['폭력검거'] / crime['폭력발생'] * 100\n",
    "    crime_arr = crime[['행정구별', '강도검거', '강간강제추행검거', '살인검거', '절도검거', '폭력검거']]\n",
    "    crime_per = crime[['행정구별', '강도검거율', '강간강제추행검거율', '살인검거율', '절도검거율', '폭력검거율']]\n",
    "    crime_occ = crime[['행정구별','살인발생', '강도발생','강간강제추행발생', '절도발생', '폭력발생']]\n",
    "    categories = ['살인건수', '강도건수', '강간강제추행건수', '절도건수', '폭력건수']\n",
    "    \n",
    "     #년도 기준 17개 시도 데이터전처리\n",
    "    na_pop = pd.read_csv('data/na_pop.csv',encoding='cp949',skiprows=2)\n",
    "    na_pop.columns = ['전국','총인구수','남자인구수','여자인구수']    \n",
    "    na_crime = pd.read_csv('data/na_crime.csv')    \n",
    "    na_pop_cri = pd.concat([na_pop,na_crime],axis=1)    \n",
    "    na_pop_cri['천명당건수']=na_pop_cri['발생건수']/(na_pop_cri['총인구수']/1000)    \n",
    "    police = pd.read_csv('data/police.csv')    \n",
    "    result = police.groupby('시도청')['경찰관'].sum()   \n",
    "    order_of_locations = ['서울','부산','대구','인천','광주','대전','울산','세종','경기','강원','충북','충남','전북','전남','경북','경남','제주']    \n",
    "    result = result.reindex(order_of_locations)    \n",
    "    result = result.reset_index()    \n",
    "    all_crime = pd.concat([na_pop_cri,result],axis=1)    \n",
    "    all_crime['경찰관한명당범죄건수']=all_crime['발생건수']/all_crime['경찰관']\n",
    "    \n",
    "    # 서울시 5대 범죄 검거 건수\n",
    "    top_group_sizes = crime_arr.iloc[0, 1:].values    \n",
    "    top_group_sizes_list=[]\n",
    "    for j in top_group_sizes:\n",
    "        top_group_sizes_list.append(int(j))\n",
    "    \n",
    "    # 서울시 5대 범죄 검거율\n",
    "    subgroup_sizes = crime_per.iloc[0, 1:].values\n",
    "    subgroup_sizes_list=[]\n",
    "    for i in subgroup_sizes:\n",
    "        subgroup_sizes_list.append(int(i))\n",
    "        \n",
    "    #서울시 5대 범죄 발생 건수\n",
    "    values = crime_occ.iloc[0, 1:].values\n",
    "    values_list=[]\n",
    "    for i in values:\n",
    "        values_list.append(int(i))\n",
    "    \n",
    "    crime_all = all_crime.iloc[:, 5].values\n",
    "    # 전국 시도별 범죄 발생 건수\n",
    "    a_list=[]\n",
    "    for a in crime_all:\n",
    "        a_list.append(int(a))\n",
    "    \n",
    "    pol_cri = all_crime.iloc[:, 10].values\n",
    "    b_list=[]\n",
    "    for b in pol_cri:\n",
    "        b_list.append(int(b))\n",
    "    \n",
    "    info_cri = all_crime.iloc[:, 7].values\n",
    "    c_list=[]\n",
    "    for c in info_cri:\n",
    "        c_list.append(int(c))\n",
    "    \n",
    "    if request.method == 'POST':\n",
    "        data = {\n",
    "            'top_group_sizes': top_group_sizes_list, #5대 범죄 건수\n",
    "            'subgroup_sizes': subgroup_sizes_list, #5대 범죄 검거율\n",
    "            'categories': categories, #범죄종류\n",
    "            'values' : values_list, #해당 범죄 건수\n",
    "            'crime' : a_list, #년도 기준 17개 시도 범죄 건수\n",
    "            'pol_cri': b_list, #년도 기준 17개 시도 경찰 명당 범죄 건수\n",
    "            'info_cri' : c_list #년도 기준 17개 시도 인구 천명당 범죄 건수\n",
    "        }\n",
    "        response = make_response(jsonify(data))\n",
    "        print(jsonify(data))\n",
    "        response.headers.add(\"Access-Control-Allow-Origin\", \"*\")\n",
    "        return response\n",
    "    \n",
    "#예측 시스템용\n",
    "@app.route('/pre', methods=['POST'])\n",
    "def pre():\n",
    "    print(\"predict connect\")\n",
    "    \n",
    "    #구이름 데이터 받아오기\n",
    "    gu_name = request.get_data(as_text=True)\n",
    "    \n",
    "    # 서울시 5대 범죄 데이터\n",
    "    seoul_crime = pd.read_csv('predict_data/seoul_crime.csv', skiprows=3)\n",
    "    seoul_crime.columns = ['행정구','총발생','총검거','살인발생','살인검거','강도발생','강도검거','강간강제추행발생', '강간강제추행검거','절도발생','절도검거','폭력발생','폭력검거']\n",
    "\n",
    "    # 서울시 인구수 데이터\n",
    "    seo_pop = pd.read_csv('predict_data/seo_pop.csv', skiprows=3)\n",
    "    seo_pop.columns = ['합계','행정구','행정동','전체인구수','남자인구수','여자인구수','한국인구수','한국남자','한국여자','외국인구수','외국남자','외국여자']\n",
    "\n",
    "    # 서울시 각구별 경찰서\n",
    "    seoul_police_office = pd.read_csv('predict_data/seoul_polic.csv')\n",
    "\n",
    "    # 서울시 cctv\n",
    "    seoul_cctv = pd.read_csv('predict_data/seoul_cctv.csv', encoding='cp949')\n",
    "    \n",
    "    seo_gu = seoul_crime['행정구'].unique()\n",
    "        \n",
    "    # 각 구별 인구수\n",
    "    pop_list = []\n",
    "    for gu in seo_gu:\n",
    "        pop_gu = seo_pop[seo_pop['행정구']==gu]['전체인구수'].sum()/2\n",
    "        pop_list.append(pop_gu)\n",
    "    seoul_crime['구별인구수'] = pd.Series(pop_list)\n",
    "    \n",
    "    # 각 구별 경찰서 수\n",
    "    pof_list=[]\n",
    "    for gu in seo_gu:\n",
    "        pof_gu = seoul_police_office[seoul_police_office['행정구']==gu]['경찰서'].count()\n",
    "        pof_list.append(pof_gu)\n",
    "    seoul_crime['구별경찰서수'] = pd.Series(pof_list)\n",
    "    \n",
    "    # 각 구별 cctv 수\n",
    "    cctv_list = []\n",
    "    for gu in seo_gu:\n",
    "        cctv_gu = seoul_cctv[seoul_cctv['자치구']==gu]['CCTV 수량'].sum()\n",
    "        cctv_list.append(cctv_gu)\n",
    "    seoul_crime['구별cctv수'] = pd.Series(cctv_list)\n",
    "    \n",
    "    seoul_crime['안전지수'] = (\n",
    "        0.4 * seoul_crime['총검거'] / seoul_crime['총발생'] +\n",
    "        0.3 * seoul_crime['구별인구수'] / seoul_crime['총발생'] +\n",
    "        0.1 * seoul_crime['구별경찰서수'] / seoul_crime['구별인구수'] +\n",
    "        0.2 * seoul_crime['구별cctv수'] / seoul_crime['구별인구수'])\n",
    "    \n",
    "    \n",
    "    features = seoul_crime[['총발생', '총검거', '구별인구수', '구별경찰서수', '구별cctv수']]\n",
    "    target = seoul_crime['안전지수']\n",
    "    \n",
    "    scaler = StandardScaler()   \n",
    "    features_scaled = scaler.fit_transform(features)\n",
    "    \n",
    "    X_train, X_test, y_train, y_test = train_test_split(features_scaled, target, test_size=0.2, random_state=42)\n",
    "    \n",
    "    model = RandomForestRegressor(n_estimators=100, random_state=42)\n",
    "    model.fit(X_train, y_train)\n",
    "    \n",
    "    predictions = model.predict(X_test)\n",
    "    \n",
    "    all_predictions = model.predict(features_scaled)\n",
    "    \n",
    "    mse_test = mean_squared_error(y_test, predictions)\n",
    "    print(f'평균제곱오차 (test): {mse_test}')\n",
    "    \n",
    "    mse_all = mean_squared_error(target, all_predictions)\n",
    "    print(f'평균제곱오차 (all): {mse_all}')\n",
    "    \n",
    "    result_df_all = pd.DataFrame({'실제값': target, '예측값': all_predictions})\n",
    "    print(result_df_all)\n",
    "    \n",
    "    df2=pd.DataFrame(all_predictions)\n",
    "    df1=pd.DataFrame(['종로구', '중구', '용산구', '성동구', '광진구', \n",
    "                      '동대문구', '중랑구', '성북구', '강북구', '도봉구',\n",
    "                      '노원구', '은평구', '서대문구', '마포구', '양천구',\n",
    "                      '강서구', '구로구', '금천구', '영등포구', '동작구',\n",
    "                      '관악구', '서초구', '강남구', '송파구', '강동구'])\n",
    "    \n",
    "    features=pd.concat([df1,features],axis=1)\n",
    "    features.columns=['행정구', '총발생', '총검거', '구별인구수', '구별경찰서수', '구별cctv수']\n",
    "    \n",
    "    mask=features['행정구']==gu_name\n",
    "    gu_crime_cnt=int(features[mask]['총발생'])\n",
    "    gu_popBy_cnt=int(features[mask]['총발생']/(features[mask]['구별인구수']/1000))\n",
    "    gu_PolBy_cnt=int(features[mask]['총발생']/features[mask]['구별경찰서수'])\n",
    "    \n",
    "    \n",
    "    all_predictions=pd.concat([df1,df2],axis=1)\n",
    "    all_predictions.columns=['행정구','예측값']\n",
    "    \n",
    "    mask=all_predictions['행정구']==gu_name\n",
    "    pre_data=int(all_predictions[mask]['예측값'])\n",
    "    \n",
    "\n",
    "    if request.method == 'POST':\n",
    "        data = {\n",
    "            \"predict_data\": pre_data, #해당 구 안전지수 예측도\n",
    "            \"gu_crime_cnt\": gu_crime_cnt, #해당 구 범죄 건수\n",
    "            \"gu_popBy_cnt\": gu_popBy_cnt, #해당 구 인구 천명당 범죄 건수\n",
    "            \"gu_PolBy_cnt\": gu_PolBy_cnt #해당 구 내 경찰 명당 범죄 건수\n",
    "               }\n",
    "        print(data)\n",
    "        response = make_response(jsonify(data))\n",
    "        print(jsonify(data))\n",
    "        response.headers.add(\"Access-Control-Allow-Origin\", \"*\")\n",
    "        return response\n",
    "\n",
    "\n",
    "if __name__ == \"__main__\":\n",
    "    app.run(host='119.200.31.33',port=5000)"
   ]
  },
  {
   "cell_type": "code",
   "execution_count": null,
   "id": "8f9cf73e",
   "metadata": {},
   "outputs": [],
   "source": []
  },
  {
   "cell_type": "code",
   "execution_count": null,
   "id": "b63a4b03",
   "metadata": {},
   "outputs": [],
   "source": []
  },
  {
   "cell_type": "code",
   "execution_count": null,
   "id": "70e426e4",
   "metadata": {},
   "outputs": [],
   "source": []
  },
  {
   "cell_type": "code",
   "execution_count": null,
   "id": "ce275250",
   "metadata": {},
   "outputs": [],
   "source": []
  },
  {
   "cell_type": "code",
   "execution_count": null,
   "id": "e79e9efb",
   "metadata": {},
   "outputs": [],
   "source": []
  },
  {
   "cell_type": "code",
   "execution_count": null,
   "id": "42b4b71e",
   "metadata": {},
   "outputs": [],
   "source": []
  },
  {
   "cell_type": "code",
   "execution_count": null,
   "id": "8db5a6a3",
   "metadata": {},
   "outputs": [],
   "source": []
  },
  {
   "cell_type": "code",
   "execution_count": null,
   "id": "a21f8778",
   "metadata": {},
   "outputs": [],
   "source": []
  }
 ],
 "metadata": {
  "kernelspec": {
   "display_name": "Python 3 (ipykernel)",
   "language": "python",
   "name": "python3"
  },
  "language_info": {
   "codemirror_mode": {
    "name": "ipython",
    "version": 3
   },
   "file_extension": ".py",
   "mimetype": "text/x-python",
   "name": "python",
   "nbconvert_exporter": "python",
   "pygments_lexer": "ipython3",
   "version": "3.11.4"
  }
 },
 "nbformat": 4,
 "nbformat_minor": 5
}
