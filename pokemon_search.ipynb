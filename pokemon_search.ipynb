{
 "cells": [
  {
   "cell_type": "code",
   "execution_count": 1,
   "id": "4e3a46dc",
   "metadata": {},
   "outputs": [],
   "source": [
    "import numpy as np\n",
    "import pandas as pd\n",
    "import matplotlib.pyplot as plt\n",
    "\n",
    "import os #폴더나 파일 생성 라이브러리\n",
    "from tqdm import tqdm as tq\n",
    "from selenium import webdriver as wb\n",
    "from selenium.webdriver.common.by import By #html 요소에 접근하기 위한 방법을 제공하는 라이브러리\n",
    "from selenium.webdriver.common.keys import Keys #키보드 값을 제공하는 라이브러리\n",
    "from selenium.webdriver.support.ui import WebDriverWait as wait #특정 조건이 충족될 때까지 기다리는데 사용하는 모듈\n",
    "from selenium.webdriver.support import expected_conditions as EC #WebDriverWait이 기다리는 조건을 정의하는데 사용하는 모듈\n",
    "from bs4 import BeautifulSoup as bs\n",
    "from urllib.request import urlretrieve #url의 내용을 파일로 다운로드하는데 사용되는 라이브러리\n",
    "import time"
   ]
  },
  {
   "cell_type": "code",
   "execution_count": 2,
   "id": "2d3e41cf",
   "metadata": {},
   "outputs": [],
   "source": [
    "from flask import Flask, request,make_response,jsonify\n",
    "from flask_cors import CORS"
   ]
  },
  {
   "cell_type": "code",
   "execution_count": 3,
   "id": "0292d296",
   "metadata": {},
   "outputs": [],
   "source": [
    "# pokemon_url = 'https://pokemonkorea.co.kr/pokedex'\n",
    "# driver=wb.Chrome()\n",
    "# driver.get(pokemon_url)\n",
    "\n",
    "# # keyword = input(\"검색할 포켓몬 : \")\n",
    "# # inputData.send_keys(keyword+'\\n') #입력값에 변수로 받아오게\n",
    "# # wait(driver,10).until(EC.staleness_of(inputData))\n",
    "# # inputData=driver.find_element(By.ID,'word')\n",
    "# # inputData.clear()\n",
    "\n",
    "# #검색 가능한 범위까지만 포켓몬 데이터 수집\n",
    "# #스크롤 범위, 전체 데이터를 수집 시 고려사항\n",
    "# pokemons=driver.find_elements(By.CSS_SELECTOR,'.bx-txt')\n",
    "\n",
    "# pokemonNumbers=[]\n",
    "# pokemonNames=[]\n",
    "# for pokemon in pokemons:\n",
    "#     parsed_data=pokemon.text.split('\\n')\n",
    "#     pokemonNumbers.append(parsed_data[0])\n",
    "#     pokemonNames.append(parsed_data[1])\n",
    "\n",
    "# pokemons=pd.DataFrame({'numbering': pokemonNumbers,'name':pokemonNames})\n",
    "# pokemons=pokemons.drop_duplicates(ignore_index=True)\n",
    "# #==========================================================\n",
    "# # for pokemon in pokemons:\n",
    "# #     #.bx-txt 클래스 내의 HTML 소스를 가져오기\n",
    "# #     html_source=pokemon.get_attribute('outerHTML')\n",
    "# #     #BeautifulSoup를 사용하여 HTML 파싱\n",
    "# #     soup=bs(html_source,'html.parser')\n",
    "# #     #<p> 태그\n",
    "# #     p_tag=soup.find('h3>p')\n",
    "# #     #삼항 연산 통해 거다이맥스 값 확인\n",
    "# #     p_tag=p_tag.text if p_tag is not None and p_tag.text else \"Nan\"\n",
    "# #검색을 통해 찾은 데이터를 호출해서 나무위키로 보내고 전투력 데이터 구해오기\n",
    "# #검색하고 데이터 수집하는 시간 필요=> 새로고침 후 다시 검색되게\n",
    "# #\n",
    "# namuwiki_url=\"https://namu.wiki/w/\"+pokemons['name'][0]\n",
    "# driver.get(namuwiki_url)"
   ]
  },
  {
   "cell_type": "code",
   "execution_count": 4,
   "id": "78cd5183",
   "metadata": {},
   "outputs": [],
   "source": [
    "# url='https://pokemon.fandom.com/ko/wiki/%EC%A2%85%EC%A1%B1%EA%B0%92_%EB%AA%A9%EB%A1%9D'\n",
    "# driver=wb.Chrome()\n",
    "# driver.get(url)\n",
    "\n",
    "# #포켓몬 팬덤 사이트 내 종족치 데이터 접근\n",
    "# pokemons=driver.find_elements(By.CSS_SELECTOR,\n",
    "#                               '.rounded.prettytable.sortable.jquery-tablesorter>tbody>tr')\n",
    "# #10개까지만 딕셔너리 형태로 수집 후 리스트 저장\n",
    "# #\n",
    "# pokemon_data=[]\n",
    "# for i in range(10):\n",
    "#     text=pokemons[i].text.split(\" \")\n",
    "#     pokemon_data.append({'no':text[0],'name':text[1],\n",
    "#                          'hp':text[2],'attack':text[3],\n",
    "#                          'defense':text[4],'sa':text[5],\n",
    "#                          'sd':text[6],'speed':text[7],\n",
    "#                          'total':text[8],'avg':text[9]})\n",
    "# pokemon_data"
   ]
  },
  {
   "cell_type": "code",
   "execution_count": 5,
   "id": "e565eb82",
   "metadata": {},
   "outputs": [
    {
     "name": "stdout",
     "output_type": "stream",
     "text": [
      " * Serving Flask app '__main__'\n",
      " * Debug mode: off\n"
     ]
    },
    {
     "name": "stderr",
     "output_type": "stream",
     "text": [
      "WARNING: This is a development server. Do not use it in a production deployment. Use a production WSGI server instead.\n",
      " * Running on http://127.0.0.1:5000\n",
      "Press CTRL+C to quit\n"
     ]
    },
    {
     "name": "stdout",
     "output_type": "stream",
     "text": [
      "<Response 1495 bytes [200 OK]>\n"
     ]
    },
    {
     "name": "stderr",
     "output_type": "stream",
     "text": [
      "127.0.0.1 - - [14/Dec/2023 18:11:24] \"GET /api/data HTTP/1.1\" 200 -\n"
     ]
    },
    {
     "name": "stdout",
     "output_type": "stream",
     "text": [
      "<Response 1495 bytes [200 OK]>\n"
     ]
    },
    {
     "name": "stderr",
     "output_type": "stream",
     "text": [
      "127.0.0.1 - - [14/Dec/2023 18:14:57] \"GET /api/data HTTP/1.1\" 200 -\n"
     ]
    },
    {
     "name": "stdout",
     "output_type": "stream",
     "text": [
      "<Response 1495 bytes [200 OK]>\n"
     ]
    },
    {
     "name": "stderr",
     "output_type": "stream",
     "text": [
      "127.0.0.1 - - [14/Dec/2023 18:15:40] \"GET /api/data HTTP/1.1\" 200 -\n"
     ]
    },
    {
     "name": "stdout",
     "output_type": "stream",
     "text": [
      "<Response 1495 bytes [200 OK]>\n"
     ]
    },
    {
     "name": "stderr",
     "output_type": "stream",
     "text": [
      "127.0.0.1 - - [14/Dec/2023 18:16:57] \"GET /api/data HTTP/1.1\" 200 -\n"
     ]
    },
    {
     "name": "stdout",
     "output_type": "stream",
     "text": [
      "<Response 1495 bytes [200 OK]>\n"
     ]
    },
    {
     "name": "stderr",
     "output_type": "stream",
     "text": [
      "127.0.0.1 - - [14/Dec/2023 18:26:58] \"GET /api/data HTTP/1.1\" 200 -\n"
     ]
    }
   ],
   "source": [
    "app=Flask(__name__)\n",
    "CORS(app)\n",
    "@app.route('/api/data',methods=['GET'])\n",
    "def set_data():\n",
    "    \n",
    "    url='https://pokemon.fandom.com/ko/wiki/%EC%A2%85%EC%A1%B1%EA%B0%92_%EB%AA%A9%EB%A1%9D'\n",
    "    driver=wb.Chrome()\n",
    "    driver.get(url)\n",
    "\n",
    "    #포켓몬 팬덤 사이트 내 종족치 데이터 접근\n",
    "    pokemons=driver.find_elements(By.CSS_SELECTOR,\n",
    "                                  '.rounded.prettytable.sortable.jquery-tablesorter>tbody>tr')\n",
    "    #10개까지만 딕셔너리 형태로 수집 후 리스트 저장\n",
    "    #\n",
    "    pokemon_data=[]\n",
    "    for i in range(10):\n",
    "        text=pokemons[i].text.split(\" \")\n",
    "        pokemon_data.append({'no':text[0],'name':text[1],\n",
    "                             'hp':text[2],'attack':text[3],\n",
    "                             'defense':text[4],'sa':text[5],\n",
    "                             'sd':text[6],'speed':text[7],\n",
    "                             'total':text[8],'avg':text[9]})\n",
    "    driver.quit()\n",
    "        \n",
    "    data={'pokemon':pokemon_data}\n",
    "    \n",
    "    print(jsonify(data))\n",
    "    response = make_response(jsonify(data))\n",
    "    response.headers.add(\"Access-Control-Allow-Origin\", \"*\")\n",
    "    return response\n",
    "\n",
    "if __name__ == \"__main__\":\n",
    "    app.run(port=5000)"
   ]
  },
  {
   "cell_type": "code",
   "execution_count": null,
   "id": "d6f7edff",
   "metadata": {},
   "outputs": [],
   "source": []
  },
  {
   "cell_type": "code",
   "execution_count": null,
   "id": "ee1d9de6",
   "metadata": {
    "scrolled": true
   },
   "outputs": [],
   "source": []
  },
  {
   "cell_type": "code",
   "execution_count": null,
   "id": "81203fe9",
   "metadata": {},
   "outputs": [],
   "source": []
  },
  {
   "cell_type": "code",
   "execution_count": null,
   "id": "6e3add18",
   "metadata": {},
   "outputs": [],
   "source": []
  },
  {
   "cell_type": "code",
   "execution_count": null,
   "id": "6fb21024",
   "metadata": {},
   "outputs": [],
   "source": []
  },
  {
   "cell_type": "code",
   "execution_count": null,
   "id": "09bab6d2",
   "metadata": {},
   "outputs": [],
   "source": []
  },
  {
   "cell_type": "code",
   "execution_count": null,
   "id": "933c4bc0",
   "metadata": {},
   "outputs": [],
   "source": []
  }
 ],
 "metadata": {
  "kernelspec": {
   "display_name": "Python 3 (ipykernel)",
   "language": "python",
   "name": "python3"
  },
  "language_info": {
   "codemirror_mode": {
    "name": "ipython",
    "version": 3
   },
   "file_extension": ".py",
   "mimetype": "text/x-python",
   "name": "python",
   "nbconvert_exporter": "python",
   "pygments_lexer": "ipython3",
   "version": "3.11.4"
  }
 },
 "nbformat": 4,
 "nbformat_minor": 5
}
