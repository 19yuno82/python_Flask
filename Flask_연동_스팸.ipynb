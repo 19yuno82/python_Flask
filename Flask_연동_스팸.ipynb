{
 "cells": [
  {
   "cell_type": "code",
   "execution_count": 1,
   "id": "5e869ba9",
   "metadata": {},
   "outputs": [],
   "source": [
    "from flask import Flask , request, render_template , make_response ,jsonify ## flask 라이브러리에서 Flask import\n",
    "import numpy as np\n",
    "import cv2\n",
    "import base64\n",
    "from selenium import webdriver as wb\n",
    "from selenium.webdriver.common.keys import Keys\n",
    "from selenium.webdriver.common.by import By\n",
    "from bs4 import BeautifulSoup as bs\n",
    "import os\n",
    "import time\n",
    "from urllib.request import urlretrieve \n",
    "import pandas as pd\n",
    "import numpy as np\n",
    "import requests as req\n",
    "import json"
   ]
  },
  {
   "cell_type": "code",
   "execution_count": null,
   "id": "111a2e0b",
   "metadata": {},
   "outputs": [
    {
     "name": "stdout",
     "output_type": "stream",
     "text": [
      " * Serving Flask app \"__main__\" (lazy loading)\n",
      " * Environment: production\n",
      "\u001b[31m   WARNING: This is a development server. Do not use it in a production deployment.\u001b[0m\n",
      "\u001b[2m   Use a production WSGI server instead.\u001b[0m\n",
      " * Debug mode: off\n"
     ]
    },
    {
     "name": "stderr",
     "output_type": "stream",
     "text": [
      " * Running on http://127.0.0.1:5001/ (Press CTRL+C to quit)\n"
     ]
    }
   ],
   "source": [
    "# 더콜 크롤링\n",
    "app = Flask(__name__)\n",
    "@app.route('/spam', methods=['POST'])\n",
    "def spam():\n",
    "     if request.method == 'POST':\n",
    "            param = request.form.get('data')\n",
    "    \n",
    "            driver=wb.Chrome()\n",
    "            url = 'https://www.thecall.co.kr/bbs/board.php?bo_table=phone'\n",
    "            driver.get(url)\n",
    "\n",
    "            search = driver.find_element(By.CSS_SELECTOR,'input.stx')\n",
    "            search.send_keys(param)\n",
    "            search.send_keys(Keys.ENTER)\n",
    "\n",
    "            soup = bs(driver.page_source,'lxml')\n",
    "\n",
    "            try :\n",
    "                spam_info = soup.select_one('div.article-content>p').text.strip()\n",
    "            except : \n",
    "                spam_info = '스팸번호가 아닙니다.'\n",
    "\n",
    "            driver.quit()\n",
    "\n",
    "            data = {'nums':param,'info':spam_info}\n",
    "            response = make_response(jsonify(data))\n",
    "            response.headers.add(\"Access-Control-Allow-Origin\", \"*\")\n",
    "            return response\n",
    "    \n",
    "if __name__ == \"__main__\":\n",
    "    app.run(port=5001)"
   ]
  },
  {
   "cell_type": "code",
   "execution_count": null,
   "id": "7492297e",
   "metadata": {},
   "outputs": [],
   "source": []
  }
 ],
 "metadata": {
  "kernelspec": {
   "display_name": "Python 3 (ipykernel)",
   "language": "python",
   "name": "python3"
  },
  "language_info": {
   "codemirror_mode": {
    "name": "ipython",
    "version": 3
   },
   "file_extension": ".py",
   "mimetype": "text/x-python",
   "name": "python",
   "nbconvert_exporter": "python",
   "pygments_lexer": "ipython3",
   "version": "3.11.4"
  }
 },
 "nbformat": 4,
 "nbformat_minor": 5
}
