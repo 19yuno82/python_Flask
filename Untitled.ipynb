{
 "cells": [
  {
   "cell_type": "code",
   "execution_count": 1,
   "id": "155f6fce",
   "metadata": {},
   "outputs": [],
   "source": [
    "import pandas as pd\n",
    "import numpy as np"
   ]
  },
  {
   "cell_type": "code",
   "execution_count": 2,
   "id": "2fb0ab09",
   "metadata": {},
   "outputs": [],
   "source": [
    "crime = pd.read_csv('data/seoul_crime.csv', skiprows=2)\n",
    "crime.columns = ['행정구별', '총범죄발생', '총범죄검거', '살인발생', '살인검거', '강도발생', '강도검거', '강간강제추행발생', '강간강제추행검거', '절도발생', '절도검거', '폭력발생', '폭력검거']\n",
    "crime['살인검거율'] = crime['살인검거'] / crime['살인발생'] * 100\n",
    "crime['강도검거율'] = crime['강도검거'] / crime['강도발생'] * 100\n",
    "crime['강간강제추행검거율'] = crime['강간강제추행검거'] / crime['강간강제추행발생'] * 100\n",
    "crime['절도검거율'] = crime['절도검거'] / crime['절도발생'] * 100\n",
    "crime['폭력검거율'] = crime['폭력검거'] / crime['폭력발생'] * 100"
   ]
  },
  {
   "cell_type": "code",
   "execution_count": 4,
   "id": "53a9de85",
   "metadata": {},
   "outputs": [
    {
     "data": {
      "text/html": [
       "<div>\n",
       "<style scoped>\n",
       "    .dataframe tbody tr th:only-of-type {\n",
       "        vertical-align: middle;\n",
       "    }\n",
       "\n",
       "    .dataframe tbody tr th {\n",
       "        vertical-align: top;\n",
       "    }\n",
       "\n",
       "    .dataframe thead th {\n",
       "        text-align: right;\n",
       "    }\n",
       "</style>\n",
       "<table border=\"1\" class=\"dataframe\">\n",
       "  <thead>\n",
       "    <tr style=\"text-align: right;\">\n",
       "      <th></th>\n",
       "      <th>행정구별</th>\n",
       "      <th>총범죄발생</th>\n",
       "      <th>총범죄검거</th>\n",
       "      <th>살인발생</th>\n",
       "      <th>살인검거</th>\n",
       "      <th>강도발생</th>\n",
       "      <th>강도검거</th>\n",
       "      <th>강간강제추행발생</th>\n",
       "      <th>강간강제추행검거</th>\n",
       "      <th>절도발생</th>\n",
       "      <th>절도검거</th>\n",
       "      <th>폭력발생</th>\n",
       "      <th>폭력검거</th>\n",
       "      <th>살인검거율</th>\n",
       "      <th>강도검거율</th>\n",
       "      <th>강간강제추행검거율</th>\n",
       "      <th>절도검거율</th>\n",
       "      <th>폭력검거율</th>\n",
       "    </tr>\n",
       "  </thead>\n",
       "  <tbody>\n",
       "    <tr>\n",
       "      <th>0</th>\n",
       "      <td>소계</td>\n",
       "      <td>90399</td>\n",
       "      <td>65097</td>\n",
       "      <td>104</td>\n",
       "      <td>98</td>\n",
       "      <td>117</td>\n",
       "      <td>112</td>\n",
       "      <td>5816</td>\n",
       "      <td>5344</td>\n",
       "      <td>37579</td>\n",
       "      <td>20205</td>\n",
       "      <td>46783</td>\n",
       "      <td>39338</td>\n",
       "      <td>94.230769</td>\n",
       "      <td>95.726496</td>\n",
       "      <td>91.884457</td>\n",
       "      <td>53.766731</td>\n",
       "      <td>84.086100</td>\n",
       "    </tr>\n",
       "    <tr>\n",
       "      <th>1</th>\n",
       "      <td>종로구</td>\n",
       "      <td>3138</td>\n",
       "      <td>3284</td>\n",
       "      <td>2</td>\n",
       "      <td>3</td>\n",
       "      <td>8</td>\n",
       "      <td>8</td>\n",
       "      <td>228</td>\n",
       "      <td>988</td>\n",
       "      <td>1313</td>\n",
       "      <td>932</td>\n",
       "      <td>1587</td>\n",
       "      <td>1353</td>\n",
       "      <td>150.000000</td>\n",
       "      <td>100.000000</td>\n",
       "      <td>433.333333</td>\n",
       "      <td>70.982483</td>\n",
       "      <td>85.255198</td>\n",
       "    </tr>\n",
       "    <tr>\n",
       "      <th>2</th>\n",
       "      <td>중구</td>\n",
       "      <td>3071</td>\n",
       "      <td>2119</td>\n",
       "      <td>1</td>\n",
       "      <td>2</td>\n",
       "      <td>5</td>\n",
       "      <td>4</td>\n",
       "      <td>194</td>\n",
       "      <td>123</td>\n",
       "      <td>1365</td>\n",
       "      <td>724</td>\n",
       "      <td>1506</td>\n",
       "      <td>1266</td>\n",
       "      <td>200.000000</td>\n",
       "      <td>80.000000</td>\n",
       "      <td>63.402062</td>\n",
       "      <td>53.040293</td>\n",
       "      <td>84.063745</td>\n",
       "    </tr>\n",
       "  </tbody>\n",
       "</table>\n",
       "</div>"
      ],
      "text/plain": [
       "  행정구별  총범죄발생  총범죄검거  살인발생  살인검거  강도발생  강도검거  강간강제추행발생  강간강제추행검거   절도발생  \\\n",
       "0   소계  90399  65097   104    98   117   112      5816      5344  37579   \n",
       "1  종로구   3138   3284     2     3     8     8       228       988   1313   \n",
       "2   중구   3071   2119     1     2     5     4       194       123   1365   \n",
       "\n",
       "    절도검거   폭력발생   폭력검거       살인검거율       강도검거율   강간강제추행검거율      절도검거율  \\\n",
       "0  20205  46783  39338   94.230769   95.726496   91.884457  53.766731   \n",
       "1    932   1587   1353  150.000000  100.000000  433.333333  70.982483   \n",
       "2    724   1506   1266  200.000000   80.000000   63.402062  53.040293   \n",
       "\n",
       "       폭력검거율  \n",
       "0  84.086100  \n",
       "1  85.255198  \n",
       "2  84.063745  "
      ]
     },
     "execution_count": 4,
     "metadata": {},
     "output_type": "execute_result"
    }
   ],
   "source": [
    "crime.head(3)"
   ]
  },
  {
   "cell_type": "code",
   "execution_count": null,
   "id": "59b2d8b4",
   "metadata": {},
   "outputs": [],
   "source": [
    "crime_arr = crime[['행정구별', '강도검거', '강간강제추행검거', '살인검거', '절도검거', '폭력검거']]\n",
    "crime_per = crime[['행정구별', '강도검거율', '강간강제추행검거율', '살인검거율', '절도검거율', '폭력검거율']]\n",
    "crime_occ = crime[['행정구별','살인발생', '강도발생','강간강제추행발생', '절도발생', '폭력발생']]\n",
    "categories = ['살인건수', '강도건수', '강간강제추행건수', '절도건수', '폭력건수']"
   ]
  },
  {
   "cell_type": "code",
   "execution_count": null,
   "id": "fef28ac3",
   "metadata": {},
   "outputs": [],
   "source": [
    "crime = pd.read_csv('data/seoul_crime.csv', skiprows=2)\n",
    "crime.columns = ['행정구별', '총범죄발생', '총범죄검거', '살인발생', '살인검거', '강도발생', '강도검거', '강간강제추행발생', '강간강제추행검거', '절도발생', '절도검거', '폭력발생', '폭력검거']\n",
    "crime['살인검거율'] = crime['살인검거'] / crime['살인발생'] * 100\n",
    "crime['강도검거율'] = crime['강도검거'] / crime['강도발생'] * 100\n",
    "crime['강간강제추행검거율'] = crime['강간강제추행검거'] / crime['강간강제추행발생'] * 100\n",
    "crime['절도검거율'] = crime['절도검거'] / crime['절도발생'] * 100\n",
    "crime['폭력검거율'] = crime['폭력검거'] / crime['폭력발생'] * 100\n",
    "    crime_arr = crime[['행정구별', '강도검거', '강간강제추행검거', '살인검거', '절도검거', '폭력검거']]\n",
    "    crime_per = crime[['행정구별', '강도검거율', '강간강제추행검거율', '살인검거율', '절도검거율', '폭력검거율']]\n",
    "    crime_occ = crime[['행정구별','살인건수', '강도건수','강간강제추행건수', '절도건수', '폭력건수']]\n",
    "    categories = ['살인건수', '강도건수', '강간강제추행건수', '절도건수', '폭력건수']"
   ]
  },
  {
   "cell_type": "code",
   "execution_count": null,
   "id": "36075115",
   "metadata": {},
   "outputs": [],
   "source": []
  },
  {
   "cell_type": "code",
   "execution_count": null,
   "id": "aa8b407c",
   "metadata": {},
   "outputs": [],
   "source": []
  },
  {
   "cell_type": "code",
   "execution_count": null,
   "id": "34424683",
   "metadata": {},
   "outputs": [],
   "source": []
  },
  {
   "cell_type": "code",
   "execution_count": null,
   "id": "2238845c",
   "metadata": {},
   "outputs": [],
   "source": []
  },
  {
   "cell_type": "code",
   "execution_count": null,
   "id": "d7de07ad",
   "metadata": {},
   "outputs": [],
   "source": []
  },
  {
   "cell_type": "code",
   "execution_count": null,
   "id": "06f02f2b",
   "metadata": {},
   "outputs": [],
   "source": []
  },
  {
   "cell_type": "code",
   "execution_count": null,
   "id": "09228472",
   "metadata": {},
   "outputs": [],
   "source": []
  },
  {
   "cell_type": "code",
   "execution_count": null,
   "id": "b1e15651",
   "metadata": {},
   "outputs": [],
   "source": []
  },
  {
   "cell_type": "code",
   "execution_count": null,
   "id": "bd768eaf",
   "metadata": {},
   "outputs": [],
   "source": []
  },
  {
   "cell_type": "code",
   "execution_count": null,
   "id": "3f9c3602",
   "metadata": {},
   "outputs": [],
   "source": []
  },
  {
   "cell_type": "code",
   "execution_count": null,
   "id": "11b9516c",
   "metadata": {},
   "outputs": [],
   "source": []
  },
  {
   "cell_type": "code",
   "execution_count": null,
   "id": "c85f70b0",
   "metadata": {},
   "outputs": [],
   "source": []
  },
  {
   "cell_type": "code",
   "execution_count": null,
   "id": "4701386a",
   "metadata": {},
   "outputs": [],
   "source": []
  },
  {
   "cell_type": "code",
   "execution_count": null,
   "id": "5746a647",
   "metadata": {},
   "outputs": [],
   "source": []
  },
  {
   "cell_type": "code",
   "execution_count": null,
   "id": "5686a871",
   "metadata": {},
   "outputs": [],
   "source": []
  }
 ],
 "metadata": {
  "kernelspec": {
   "display_name": "Python 3 (ipykernel)",
   "language": "python",
   "name": "python3"
  },
  "language_info": {
   "codemirror_mode": {
    "name": "ipython",
    "version": 3
   },
   "file_extension": ".py",
   "mimetype": "text/x-python",
   "name": "python",
   "nbconvert_exporter": "python",
   "pygments_lexer": "ipython3",
   "version": "3.11.4"
  }
 },
 "nbformat": 4,
 "nbformat_minor": 5
}
